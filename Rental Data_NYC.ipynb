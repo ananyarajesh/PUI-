{
 "cells": [
  {
   "cell_type": "code",
   "execution_count": 1,
   "id": "c0bf045d",
   "metadata": {},
   "outputs": [],
   "source": [
    "import pandas as pd\n",
    "import numpy as np\n",
    "from datetime import datetime\n",
    "from dateutil import parser\n",
    "import seaborn as sns\n",
    "from scipy.stats import norm\n",
    "from scipy.stats import genextreme as gev\n",
    "from scipy.stats import pareto \n",
    "from scipy import stats\n",
    "import geopandas as gpd\n",
    "from shapely.geometry import Point\n",
    "from matplotlib import pyplot as plt\n",
    "%matplotlib inline\n",
    "import warnings\n",
    "warnings.filterwarnings('ignore')"
   ]
  },
  {
   "cell_type": "code",
   "execution_count": null,
   "id": "b5dead5a",
   "metadata": {},
   "outputs": [],
   "source": [
    "data = pd.read_csv('NYPD_data.csv', error_bad_lines=False)\n",
    "data.head()"
   ]
  }
 ],
 "metadata": {
  "kernelspec": {
   "display_name": "geo_env",
   "language": "python",
   "name": "geo_env"
  },
  "language_info": {
   "codemirror_mode": {
    "name": "ipython",
    "version": 3
   },
   "file_extension": ".py",
   "mimetype": "text/x-python",
   "name": "python",
   "nbconvert_exporter": "python",
   "pygments_lexer": "ipython3",
   "version": "3.11.0"
  }
 },
 "nbformat": 4,
 "nbformat_minor": 5
}
